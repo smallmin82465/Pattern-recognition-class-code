{
 "cells": [
  {
   "cell_type": "code",
   "execution_count": 71,
   "id": "00e5b8ce-e7ab-4b3d-840c-6369aced8e22",
   "metadata": {},
   "outputs": [
    {
     "ename": "SyntaxError",
     "evalue": "invalid syntax (<ipython-input-71-fe6aea080399>, line 2)",
     "output_type": "error",
     "traceback": [
      "\u001b[1;36m  File \u001b[1;32m\"<ipython-input-71-fe6aea080399>\"\u001b[1;36m, line \u001b[1;32m2\u001b[0m\n\u001b[1;33m    from sympy import * ,pi\u001b[0m\n\u001b[1;37m                        ^\u001b[0m\n\u001b[1;31mSyntaxError\u001b[0m\u001b[1;31m:\u001b[0m invalid syntax\n"
     ]
    }
   ],
   "source": [
    "import math\n",
    "from sympy import * \n"
   ]
  },
  {
   "cell_type": "code",
   "execution_count": 97,
   "id": "0c80e14f-080a-4fe1-8414-bc925d90b965",
   "metadata": {},
   "outputs": [],
   "source": [
    "x,n,N,t = symbols('x,n,N,t')"
   ]
  },
  {
   "cell_type": "code",
   "execution_count": 9,
   "id": "5a97aa04-3775-4456-8b5f-d59b9116a7e6",
   "metadata": {},
   "outputs": [
    {
     "data": {
      "text/latex": [
       "$\\displaystyle \\frac{n^{11}}{11}$"
      ],
      "text/plain": [
       "n**11/11"
      ]
     },
     "execution_count": 9,
     "metadata": {},
     "output_type": "execute_result"
    }
   ],
   "source": [
    "integrate(x**10,(x,0,n))"
   ]
  },
  {
   "cell_type": "code",
   "execution_count": 10,
   "id": "5d093891-c53b-47cc-a8a4-1025ecba00ae",
   "metadata": {},
   "outputs": [
    {
     "data": {
      "text/latex": [
       "$\\displaystyle \\frac{N^{11}}{11} + \\frac{N^{10}}{2} + \\frac{5 N^{9}}{6} - N^{7} + N^{5} - \\frac{N^{3}}{2} + \\frac{5 N}{66}$"
      ],
      "text/plain": [
       "N**11/11 + N**10/2 + 5*N**9/6 - N**7 + N**5 - N**3/2 + 5*N/66"
      ]
     },
     "execution_count": 10,
     "metadata": {},
     "output_type": "execute_result"
    }
   ],
   "source": [
    "summation(x**10, (x, 0, N))"
   ]
  },
  {
   "cell_type": "code",
   "execution_count": 11,
   "id": "38a214e9-e706-4fe0-8af9-42fb32e3350f",
   "metadata": {},
   "outputs": [
    {
     "data": {
      "text/latex": [
       "$\\displaystyle \\frac{N^{11}}{11} - \\frac{N^{10}}{2} + \\frac{5 N^{9}}{6} - N^{7} + N^{5} - \\frac{N^{3}}{2} + \\frac{5 N}{66}$"
      ],
      "text/plain": [
       "N**11/11 - N**10/2 + 5*N**9/6 - N**7 + N**5 - N**3/2 + 5*N/66"
      ]
     },
     "execution_count": 11,
     "metadata": {},
     "output_type": "execute_result"
    }
   ],
   "source": [
    "summation((x-1)**10, (x, 1, N))"
   ]
  },
  {
   "cell_type": "code",
   "execution_count": 12,
   "id": "ec6daf88-a512-4bd8-936c-a91ff013fdaf",
   "metadata": {},
   "outputs": [
    {
     "data": {
      "text/latex": [
       "$\\displaystyle 3628800$"
      ],
      "text/plain": [
       "3628800"
      ]
     },
     "execution_count": 12,
     "metadata": {},
     "output_type": "execute_result"
    }
   ],
   "source": [
    "integrate(x**10*exp(-x), (x, 0, oo))"
   ]
  },
  {
   "cell_type": "code",
   "execution_count": 13,
   "id": "301c16f1-96fe-479c-9357-13e303086d4d",
   "metadata": {},
   "outputs": [],
   "source": [
    "y=symbols('y')"
   ]
  },
  {
   "cell_type": "code",
   "execution_count": 14,
   "id": "c34f7c58-56b5-4b95-acf8-59b1594237a0",
   "metadata": {},
   "outputs": [
    {
     "data": {
      "text/latex": [
       "$\\displaystyle \\left(2 - 2 x\\right) e^{- \\left(x - 1\\right)^{2} - \\left(y + 1\\right)^{2}}$"
      ],
      "text/plain": [
       "(2 - 2*x)*exp(-(x - 1)**2 - (y + 1)**2)"
      ]
     },
     "execution_count": 14,
     "metadata": {},
     "output_type": "execute_result"
    }
   ],
   "source": [
    "diff(exp(-((x-1)**2+(y+1)**2)),x,1)"
   ]
  },
  {
   "cell_type": "code",
   "execution_count": 15,
   "id": "0111f785-251c-43c9-8cf2-5a4f89889f00",
   "metadata": {},
   "outputs": [
    {
     "data": {
      "text/latex": [
       "$\\displaystyle \\left(- 2 y - 2\\right) e^{- \\left(x - 1\\right)^{2} - \\left(y + 1\\right)^{2}}$"
      ],
      "text/plain": [
       "(-2*y - 2)*exp(-(x - 1)**2 - (y + 1)**2)"
      ]
     },
     "execution_count": 15,
     "metadata": {},
     "output_type": "execute_result"
    }
   ],
   "source": [
    "diff(exp(-((x-1)**2+(y+1)**2)),y,1)"
   ]
  },
  {
   "cell_type": "code",
   "execution_count": 30,
   "id": "796f8cc1-e7b2-470c-8863-270a33d1daf6",
   "metadata": {},
   "outputs": [
    {
     "data": {
      "text/latex": [
       "$\\displaystyle \\left(2 - 2 x\\right) \\left(- 2 y - 2\\right) e^{- \\left(x - 1\\right)^{2} - \\left(y + 1\\right)^{2}}$"
      ],
      "text/plain": [
       "(2 - 2*x)*(-2*y - 2)*exp(-(x - 1)**2 - (y + 1)**2)"
      ]
     },
     "execution_count": 30,
     "metadata": {},
     "output_type": "execute_result"
    }
   ],
   "source": [
    "partialDiff(exp(-((x-1)**2+(y+1)**2)),(x,y))"
   ]
  },
  {
   "cell_type": "code",
   "execution_count": 29,
   "id": "6915b000-0e8e-4698-93d4-212c27517965",
   "metadata": {},
   "outputs": [],
   "source": [
    "def partialDiff(function, tupleDiffSeq):\n",
    "    diffResult = function\n",
    "    for diffSeq in tupleDiffSeq:\n",
    "        diffResult = diff(diffResult, diffSeq)\n",
    "    return diffResult"
   ]
  },
  {
   "cell_type": "code",
   "execution_count": 31,
   "id": "9d0001b4-536f-46e8-9587-30347833ddbf",
   "metadata": {},
   "outputs": [],
   "source": [
    "f1=(2-2*x)*exp(-(x-1)**2-(y+1)**2)\n",
    "f2=(-2*y-2)*exp(-(x-1)**2-(y+1)**2)"
   ]
  },
  {
   "cell_type": "code",
   "execution_count": 32,
   "id": "61994be4-3e68-4078-b9cd-518f5ca478bf",
   "metadata": {},
   "outputs": [
    {
     "data": {
      "text/plain": [
       "[(1, -1)]"
      ]
     },
     "execution_count": 32,
     "metadata": {},
     "output_type": "execute_result"
    }
   ],
   "source": [
    "solve((f1, f2), x, y)"
   ]
  },
  {
   "cell_type": "code",
   "execution_count": 39,
   "id": "20ae8d8b-e191-48ed-a4ed-17ae78dcbf49",
   "metadata": {},
   "outputs": [],
   "source": [
    "import matplotlib.pyplot as plt\n",
    "import numpy as np"
   ]
  },
  {
   "cell_type": "code",
   "execution_count": 40,
   "id": "e9810844-4fa5-46dd-957d-0bd8169326c7",
   "metadata": {},
   "outputs": [],
   "source": [
    "import cmath"
   ]
  },
  {
   "cell_type": "code",
   "execution_count": 42,
   "id": "3a808742-9137-4c73-bdff-8225b1a86579",
   "metadata": {},
   "outputs": [],
   "source": [
    "j=cmath.sqrt(-1)"
   ]
  },
  {
   "cell_type": "code",
   "execution_count": 44,
   "id": "db3ac84c-cc93-4c47-b34c-15f208f296ef",
   "metadata": {},
   "outputs": [
    {
     "data": {
      "text/plain": [
       "(0.20787957635076193+0j)"
      ]
     },
     "execution_count": 44,
     "metadata": {},
     "output_type": "execute_result"
    }
   ],
   "source": [
    "cmath.sqrt(-1)**cmath.sqrt(-1)"
   ]
  },
  {
   "cell_type": "code",
   "execution_count": 45,
   "id": "9ea839c0-5871-4ec8-b7e4-ae207098cb1c",
   "metadata": {},
   "outputs": [],
   "source": [
    "import numpy as np"
   ]
  },
  {
   "cell_type": "code",
   "execution_count": 46,
   "id": "72b9ec6f-76b1-433d-a347-c59ce87c37fc",
   "metadata": {},
   "outputs": [],
   "source": [
    "A = np.array([[5,1],\n",
    "              [1,5]])\n"
   ]
  },
  {
   "cell_type": "code",
   "execution_count": 47,
   "id": "435b7cf0-73ea-49ad-938d-0e0d5fe70e98",
   "metadata": {},
   "outputs": [],
   "source": [
    "b=np.array([[10],\n",
    "              [20]])"
   ]
  },
  {
   "cell_type": "code",
   "execution_count": 48,
   "id": "51e776a6-8e97-4a1e-a948-81db07c154f9",
   "metadata": {},
   "outputs": [
    {
     "name": "stdout",
     "output_type": "stream",
     "text": [
      "[[ 0.20833333 -0.04166667]\n",
      " [-0.04166667  0.20833333]]\n"
     ]
    }
   ],
   "source": [
    "print(np.linalg.inv(A))"
   ]
  },
  {
   "cell_type": "code",
   "execution_count": 53,
   "id": "dc115eeb-7870-4df9-a9a7-39f540b837bd",
   "metadata": {},
   "outputs": [
    {
     "name": "stdout",
     "output_type": "stream",
     "text": [
      "[[ 70 110]]\n"
     ]
    }
   ],
   "source": [
    "print(format(b.T.dot(A)))"
   ]
  },
  {
   "cell_type": "code",
   "execution_count": 54,
   "id": "dc08e507-16c4-4cef-9227-f477883808e3",
   "metadata": {},
   "outputs": [
    {
     "data": {
      "text/plain": [
       "(array([6., 4.]),\n",
       " array([[ 0.70710678, -0.70710678],\n",
       "        [ 0.70710678,  0.70710678]]))"
      ]
     },
     "execution_count": 54,
     "metadata": {},
     "output_type": "execute_result"
    }
   ],
   "source": [
    "np.linalg.eig(A)"
   ]
  },
  {
   "cell_type": "code",
   "execution_count": 55,
   "id": "1b7f657f-b6d1-4f9b-8ab4-84eab9968306",
   "metadata": {},
   "outputs": [],
   "source": [
    "e, v = np.linalg.eig(A)"
   ]
  },
  {
   "cell_type": "code",
   "execution_count": 56,
   "id": "8633d242-987e-4af8-a80c-8e7e34b9e8ca",
   "metadata": {},
   "outputs": [
    {
     "data": {
      "text/plain": [
       "array([[ 0.70710678, -0.70710678],\n",
       "       [ 0.70710678,  0.70710678]])"
      ]
     },
     "execution_count": 56,
     "metadata": {},
     "output_type": "execute_result"
    }
   ],
   "source": [
    "v\n"
   ]
  },
  {
   "cell_type": "code",
   "execution_count": 59,
   "id": "dbc9499b-09a6-48b0-8c79-015f8aeabc4d",
   "metadata": {},
   "outputs": [
    {
     "name": "stdout",
     "output_type": "stream",
     "text": [
      "[[1.25]\n",
      " [3.75]]\n"
     ]
    }
   ],
   "source": [
    "x = np.linalg.solve(A, b)\n",
    "print(x)"
   ]
  },
  {
   "cell_type": "code",
   "execution_count": 62,
   "id": "d34e896b-f6b3-464c-b14f-67d07db25e30",
   "metadata": {},
   "outputs": [
    {
     "data": {
      "text/plain": [
       "array([[10.],\n",
       "       [20.]])"
      ]
     },
     "execution_count": 62,
     "metadata": {},
     "output_type": "execute_result"
    }
   ],
   "source": [
    "A.dot(x)"
   ]
  },
  {
   "cell_type": "code",
   "execution_count": 103,
   "id": "4ec52170-d0f3-426e-8fe9-1015ccd86c49",
   "metadata": {},
   "outputs": [],
   "source": [
    "import numpy as np\n",
    "import scipy.stats\n",
    "import math"
   ]
  },
  {
   "cell_type": "code",
   "execution_count": 91,
   "id": "1202f0fa-1d66-453c-8109-cdf3a999222f",
   "metadata": {},
   "outputs": [],
   "source": [
    "# 展現常態分配的機率密度函數圖\n",
    "def draw_normal(mu=0, sigma=1, size=1000):\n",
    "    np.random.seed(0)\n",
    "    dnormal = np.random.normal(mu, sigma, size)\n",
    "    _, bins_edge, _ = plt.hist(dnormal, bins=50, density=True, alpha=0.5)\n",
    "\n",
    "    # 機率密度函數曲線\n",
    "    y = scipy.stats.norm.pdf(bins_edge, mu, sigma)\n",
    "    plt.plot(bins_edge, y, label='$\\mu$=%.1f, $\\sigma^2$=%.1f'%(mu, sigma))\n",
    "\n",
    "    plt.xlabel('Expectation')\n",
    "    plt.ylabel('Probability')\n",
    "    plt.title('histogram of normal distribution:')\n",
    "\n",
    "    return True\n",
    "\n",
    "\n",
    "def show_normal_dist_plot():\n",
    "    draw_normal(mu=0, sigma=1, size=1000)\n",
    "    plt.legend(loc=0, ncol=1)\n",
    "    plt.show()"
   ]
  },
  {
   "cell_type": "code",
   "execution_count": 90,
   "id": "9a9268a2-c508-489b-8ace-39392cf0887b",
   "metadata": {},
   "outputs": [
    {
     "data": {
      "text/plain": [
       "True"
      ]
     },
     "execution_count": 90,
     "metadata": {},
     "output_type": "execute_result"
    },
    {
     "data": {
      "image/png": "[encoded data removed]",
      "text/plain": [
       "<Figure size 432x288 with 1 Axes>"
      ]
     },
     "metadata": {
      "needs_background": "light"
     },
     "output_type": "display_data"
    }
   ],
   "source": [
    "draw_normal(mu=0, sigma=1)"
   ]
  },
  {
   "cell_type": "code",
   "execution_count": 107,
   "id": "1e307d1b-3ee8-4480-a168-318c77b69545",
   "metadata": {},
   "outputs": [
    {
     "ename": "TypeError",
     "evalue": "can't convert expression to float",
     "output_type": "error",
     "traceback": [
      "\u001b[1;31m---------------------------------------------------------------------------\u001b[0m",
      "\u001b[1;31mTypeError\u001b[0m                                 Traceback (most recent call last)",
      "\u001b[1;32m<ipython-input-107-1d10c90285ca>\u001b[0m in \u001b[0;36m<module>\u001b[1;34m\u001b[0m\n\u001b[1;32m----> 1\u001b[1;33m \u001b[0mintegrate\u001b[0m\u001b[1;33m(\u001b[0m\u001b[0mmath\u001b[0m\u001b[1;33m.\u001b[0m\u001b[0mlog\u001b[0m\u001b[1;33m(\u001b[0m\u001b[1;36m1\u001b[0m\u001b[1;33m/\u001b[0m\u001b[0mexp\u001b[0m\u001b[1;33m(\u001b[0m\u001b[1;33m-\u001b[0m\u001b[1;33m(\u001b[0m\u001b[0mx\u001b[0m\u001b[1;33m**\u001b[0m\u001b[1;36m2\u001b[0m\u001b[1;33m/\u001b[0m\u001b[1;36m2\u001b[0m\u001b[1;33m)\u001b[0m\u001b[1;33m)\u001b[0m\u001b[1;33m/\u001b[0m\u001b[0msqrt\u001b[0m\u001b[1;33m(\u001b[0m\u001b[1;36m2\u001b[0m\u001b[1;33m*\u001b[0m\u001b[0mpi\u001b[0m\u001b[1;33m)\u001b[0m\u001b[1;33m,\u001b[0m\u001b[1;36m10\u001b[0m\u001b[1;33m)\u001b[0m\u001b[1;33m*\u001b[0m\u001b[0mexp\u001b[0m\u001b[1;33m(\u001b[0m\u001b[1;33m-\u001b[0m\u001b[1;33m(\u001b[0m\u001b[0mx\u001b[0m\u001b[1;33m**\u001b[0m\u001b[1;36m2\u001b[0m\u001b[1;33m/\u001b[0m\u001b[1;36m2\u001b[0m\u001b[1;33m)\u001b[0m\u001b[1;33m)\u001b[0m\u001b[1;33m/\u001b[0m\u001b[0msqrt\u001b[0m\u001b[1;33m(\u001b[0m\u001b[1;36m2\u001b[0m\u001b[1;33m*\u001b[0m\u001b[0mpi\u001b[0m\u001b[1;33m)\u001b[0m\u001b[1;33m,\u001b[0m \u001b[1;33m(\u001b[0m\u001b[0mx\u001b[0m\u001b[1;33m,\u001b[0m \u001b[1;33m-\u001b[0m\u001b[0moo\u001b[0m\u001b[1;33m,\u001b[0m \u001b[0moo\u001b[0m\u001b[1;33m)\u001b[0m\u001b[1;33m)\u001b[0m\u001b[1;33m\u001b[0m\u001b[1;33m\u001b[0m\u001b[0m\n\u001b[0m",
      "\u001b[1;32m~\\anaconda3\\lib\\site-packages\\sympy\\core\\expr.py\u001b[0m in \u001b[0;36m__float__\u001b[1;34m(self)\u001b[0m\n\u001b[0;32m    356\u001b[0m         \u001b[1;32mif\u001b[0m \u001b[0mresult\u001b[0m\u001b[1;33m.\u001b[0m\u001b[0mis_number\u001b[0m \u001b[1;32mand\u001b[0m \u001b[0mresult\u001b[0m\u001b[1;33m.\u001b[0m\u001b[0mas_real_imag\u001b[0m\u001b[1;33m(\u001b[0m\u001b[1;33m)\u001b[0m\u001b[1;33m[\u001b[0m\u001b[1;36m1\u001b[0m\u001b[1;33m]\u001b[0m\u001b[1;33m:\u001b[0m\u001b[1;33m\u001b[0m\u001b[1;33m\u001b[0m\u001b[0m\n\u001b[0;32m    357\u001b[0m             \u001b[1;32mraise\u001b[0m \u001b[0mTypeError\u001b[0m\u001b[1;33m(\u001b[0m\u001b[1;34m\"can't convert complex to float\"\u001b[0m\u001b[1;33m)\u001b[0m\u001b[1;33m\u001b[0m\u001b[1;33m\u001b[0m\u001b[0m\n\u001b[1;32m--> 358\u001b[1;33m         \u001b[1;32mraise\u001b[0m \u001b[0mTypeError\u001b[0m\u001b[1;33m(\u001b[0m\u001b[1;34m\"can't convert expression to float\"\u001b[0m\u001b[1;33m)\u001b[0m\u001b[1;33m\u001b[0m\u001b[1;33m\u001b[0m\u001b[0m\n\u001b[0m\u001b[0;32m    359\u001b[0m \u001b[1;33m\u001b[0m\u001b[0m\n\u001b[0;32m    360\u001b[0m     \u001b[1;32mdef\u001b[0m \u001b[0m__complex__\u001b[0m\u001b[1;33m(\u001b[0m\u001b[0mself\u001b[0m\u001b[1;33m)\u001b[0m\u001b[1;33m:\u001b[0m\u001b[1;33m\u001b[0m\u001b[1;33m\u001b[0m\u001b[0m\n",
      "\u001b[1;31mTypeError\u001b[0m: can't convert expression to float"
     ]
    }
   ],
   "source": [
    "integrate(math.log(1/exp(-(x**2/2))/sqrt(2*pi),10)*exp(-(x**2/2))/sqrt(2*pi), (x, -oo, oo))"
   ]
  },
  {
   "cell_type": "code",
   "execution_count": 93,
   "id": "a4ff1471-7f95-4176-b1f7-95da98b396c5",
   "metadata": {},
   "outputs": [
    {
     "data": {
      "image/png": "[encoded data removed]",
      "text/plain": [
       "<Figure size 432x288 with 1 Axes>"
      ]
     },
     "metadata": {
      "needs_background": "light"
     },
     "output_type": "display_data"
    }
   ],
   "source": [
    "show_normal_dist_plot()"
   ]
  },
  {
   "cell_type": "code",
   "execution_count": 95,
   "id": "9927c76e-e828-45cd-b00a-2c79a0868a71",
   "metadata": {},
   "outputs": [
    {
     "data": {
      "text/latex": [
       "$\\displaystyle y$"
      ],
      "text/plain": [
       "y"
      ]
     },
     "execution_count": 95,
     "metadata": {},
     "output_type": "execute_result"
    }
   ],
   "source": [
    "np.mean(y)"
   ]
  },
  {
   "cell_type": "code",
   "execution_count": 106,
   "id": "d1c7cddd-c86e-40dd-adef-c5f6f6f543e4",
   "metadata": {},
   "outputs": [
    {
     "data": {
      "text/plain": [
       "2.0"
      ]
     },
     "execution_count": 106,
     "metadata": {},
     "output_type": "execute_result"
    }
   ],
   "source": []
  },
  {
   "cell_type": "code",
   "execution_count": null,
   "id": "310f2eb0-2102-4de0-b694-1aa952d9f223",
   "metadata": {},
   "outputs": [],
   "source": []
  }
 ],
 "metadata": {
  "kernelspec": {
   "display_name": "Python 3",
   "language": "python",
   "name": "python3"
  },
  "language_info": {
   "codemirror_mode": {
    "name": "ipython",
    "version": 3
   },
   "file_extension": ".py",
   "mimetype": "text/x-python",
   "name": "python",
   "nbconvert_exporter": "python",
   "pygments_lexer": "ipython3",
   "version": "3.8.8"
  }
 },
 "nbformat": 4,
 "nbformat_minor": 5
}
