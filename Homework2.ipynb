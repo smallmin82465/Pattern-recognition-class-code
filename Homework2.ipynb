{
 "cells": [
  {
   "cell_type": "markdown",
   "metadata": {},
   "source": [
    "Homework2"
   ]
  },
  {
   "cell_type": "code",
   "execution_count": 40,
   "metadata": {},
   "outputs": [],
   "source": [
    "import numpy as np"
   ]
  },
  {
   "cell_type": "code",
   "execution_count": 41,
   "metadata": {},
   "outputs": [],
   "source": [
    "def determinant(m):\n",
    "    if len(m) <= 0:\n",
    "        return None\n",
    "    if len(m) == 1:\n",
    "        return m[0][0] \n",
    "    else:\n",
    "        ans = 0\n",
    "    for i in range(len(m)):\n",
    "        n = [[row[a]\n",
    "    for a in range(len(m))\n",
    "        if a != i] \n",
    "    for row in m[1:]] \n",
    "        if i % 2 == 0:\n",
    "            ans += m[0][i] * determinant(n)\n",
    "        else:\n",
    "            ans -= m[0][i] * determinant(n)\n",
    "    return ans"
   ]
  },
  {
   "cell_type": "code",
   "execution_count": 42,
   "metadata": {},
   "outputs": [
    {
     "name": "stdout",
     "output_type": "stream",
     "text": [
      "A= \n",
      "[[ 0 -5 -2 -2  2]\n",
      " [ 4 -2  0 -3 -1]\n",
      " [ 2  1  3  3 -4]\n",
      " [ 1  2  2  3 -4]\n",
      " [ 0  4  3  4 -1]]\n"
     ]
    }
   ],
   "source": [
    "n= 5\n",
    "np.random.seed(0)\n",
    "A= np.random.randint(-5,5,size=(n,n))\n",
    "print(f'A= \\n{A}')"
   ]
  },
  {
   "cell_type": "code",
   "execution_count": 43,
   "metadata": {},
   "outputs": [
    {
     "data": {
      "text/plain": [
       "112"
      ]
     },
     "execution_count": 43,
     "metadata": {},
     "output_type": "execute_result"
    }
   ],
   "source": [
    "determinant(A)"
   ]
  },
  {
   "cell_type": "code",
   "execution_count": null,
   "metadata": {},
   "outputs": [],
   "source": []
  }
 ],
 "metadata": {
  "kernelspec": {
   "display_name": "Python 3",
   "language": "python",
   "name": "python3"
  },
  "language_info": {
   "codemirror_mode": {
    "name": "ipython",
    "version": 3
   },
   "file_extension": ".py",
   "mimetype": "text/x-python",
   "name": "python",
   "nbconvert_exporter": "python",
   "pygments_lexer": "ipython3",
   "version": "3.8.5"
  }
 },
 "nbformat": 4,
 "nbformat_minor": 4
}
