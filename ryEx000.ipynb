{
 "cells": [
  {
   "cell_type": "markdown",
   "metadata": {},
   "source": [
    "# ryEx000.ipynb\n",
    "- 先熟悉一下環境\n",
    "- 修改測試環境安裝沒有問題\n",
    "-[我的課堂作業連結](https://github.com/smallmin82465/Pattern-recognition-class-code)"
   ]
  },
  {
   "cell_type": "code",
   "execution_count": null,
   "metadata": {},
   "outputs": [],
   "source": [
    "\n"
   ]
  },
  {
   "cell_type": "code",
   "execution_count": 1,
   "metadata": {},
   "outputs": [
    {
     "data": {
      "text/plain": [
       "(1, 2, 3)"
      ]
     },
     "execution_count": 1,
     "metadata": {},
     "output_type": "execute_result"
    }
   ],
   "source": [
    "x= 1\n",
    "y= 2\n",
    "z= x+y\n",
    "\n",
    "x,y,z"
   ]
  },
  {
   "cell_type": "code",
   "execution_count": 2,
   "metadata": {},
   "outputs": [
    {
     "data": {
      "text/plain": [
       "3"
      ]
     },
     "execution_count": 2,
     "metadata": {},
     "output_type": "execute_result"
    }
   ],
   "source": [
    "def f(x,y):\n",
    "    z= x+y\n",
    "    return z\n",
    "\n",
    "f(1, 2)"
   ]
  },
  {
   "cell_type": "code",
   "execution_count": 3,
   "metadata": {},
   "outputs": [
    {
     "data": {
      "text/plain": [
       "(3, -1, 2, 0.5)"
      ]
     },
     "execution_count": 3,
     "metadata": {},
     "output_type": "execute_result"
    }
   ],
   "source": [
    "def add(x,y):\n",
    "    z= x+y\n",
    "    return z\n",
    "def sub(x,y):\n",
    "    z= x-y\n",
    "    return z\n",
    "def mul(x,y):\n",
    "    z= x*y\n",
    "    return z\n",
    "def div(x,y):\n",
    "    z= x/y\n",
    "    return z\n",
    "\n",
    "a= add(1,2)\n",
    "s= sub(1,2)\n",
    "m= mul(1,2)\n",
    "d= div(1,2)\n",
    "a,s,m,d"
   ]
  },
  {
   "cell_type": "code",
   "execution_count": 4,
   "metadata": {},
   "outputs": [
    {
     "data": {
      "text/plain": [
       "(<__main__.Number at 0x19dcd29b580>, 100, 101, 99, 100, 100.0)"
      ]
     },
     "execution_count": 4,
     "metadata": {},
     "output_type": "execute_result"
    }
   ],
   "source": [
    "class Number:\n",
    "    \n",
    "    def __init__(self,x=0):\n",
    "        self.x= x\n",
    "        \n",
    "    def add(self,y):\n",
    "        z= self.x + y\n",
    "        return z\n",
    "    \n",
    "    def sub(self,y):\n",
    "        z= self.x - y\n",
    "        return z\n",
    "    \n",
    "    def mul(self,y):\n",
    "        z= self.x * y\n",
    "        return z\n",
    "    \n",
    "    def div(self,y):\n",
    "        z= self.x / y\n",
    "        return z\n",
    "\n",
    "n= Number(100)\n",
    "a= n.add(1)\n",
    "s= n.sub(1)\n",
    "m= n.mul(1)\n",
    "d= n.div(1)\n",
    "n, n.x, a, s, m, d"
   ]
  },
  {
   "cell_type": "code",
   "execution_count": 5,
   "metadata": {},
   "outputs": [
    {
     "data": {
      "text/plain": [
       "(<__main__.Number at 0x19dcd298a90>, 100, 101, 99, 100, 100.0)"
      ]
     },
     "execution_count": 5,
     "metadata": {},
     "output_type": "execute_result"
    }
   ],
   "source": [
    "# 運用繼承的觀念，繼續擴充 物件內涵\n",
    "# dunder (double under，雙底線) __xxx__\n",
    "\n",
    "class Number(Number):\n",
    "        \n",
    "    def __add__(self,y):\n",
    "        z= self.add(y)\n",
    "        return z\n",
    "    def __sub__(self,y):\n",
    "        z= self.sub(y)\n",
    "        return z\n",
    "    def __mul__(self,y):\n",
    "        z= self.mul(y)\n",
    "        return z\n",
    "    def __truediv__(self,y): # 這個除法的名稱比較特殊\n",
    "        z= self.div(y)\n",
    "        return z\n",
    "\n",
    "\n",
    "n= Number(100)\n",
    "a= n.add(1)\n",
    "s= n.sub(1)\n",
    "m= n.mul(1)\n",
    "d= n.div(1)\n",
    "n, n.x, a, s, m, d"
   ]
  },
  {
   "cell_type": "code",
   "execution_count": 6,
   "metadata": {},
   "outputs": [
    {
     "data": {
      "text/plain": [
       "(<__main__.Number at 0x19dcd298a90>, 100, 102, 98, 200, 50.0)"
      ]
     },
     "execution_count": 6,
     "metadata": {},
     "output_type": "execute_result"
    }
   ],
   "source": [
    "a= n.__add__(2)\n",
    "s= n.__sub__(2)\n",
    "m= n.__mul__(2)\n",
    "d= n.__truediv__(2)\n",
    "n, n.x, a, s, m, d"
   ]
  },
  {
   "cell_type": "code",
   "execution_count": 7,
   "metadata": {},
   "outputs": [
    {
     "data": {
      "text/plain": [
       "(<__main__.Number at 0x19dcd298a90>, 100, 102, 98, 200, 50.0)"
      ]
     },
     "execution_count": 7,
     "metadata": {},
     "output_type": "execute_result"
    }
   ],
   "source": [
    "a= n+2\n",
    "s= n-2\n",
    "m= n*2\n",
    "d= n/2\n",
    "n, n.x, a, s, m, d"
   ]
  },
  {
   "cell_type": "code",
   "execution_count": 8,
   "metadata": {},
   "outputs": [
    {
     "data": {
      "text/plain": [
       "100"
      ]
     },
     "execution_count": 8,
     "metadata": {},
     "output_type": "execute_result"
    }
   ],
   "source": [
    "class Number(Number):\n",
    "    \n",
    "    # print our string object\n",
    "    def __repr__(self):      # 更改 此 物件的 print() 結果。 以字串型態送出去。\n",
    "        return f'{self.x}'\n",
    "    pass\n",
    "    \n",
    "    \n",
    "n= Number(100)\n",
    "n\n"
   ]
  },
  {
   "cell_type": "code",
   "execution_count": 9,
   "metadata": {},
   "outputs": [
    {
     "data": {
      "text/plain": [
       "__main__.Number"
      ]
     },
     "execution_count": 9,
     "metadata": {},
     "output_type": "execute_result"
    }
   ],
   "source": [
    "type(n)"
   ]
  },
  {
   "cell_type": "code",
   "execution_count": null,
   "metadata": {},
   "outputs": [],
   "source": []
  },
  {
   "cell_type": "code",
   "execution_count": 10,
   "metadata": {},
   "outputs": [],
   "source": [
    "# 向量的加減乘除四則運算"
   ]
  },
  {
   "cell_type": "code",
   "execution_count": 11,
   "metadata": {},
   "outputs": [
    {
     "data": {
      "text/plain": [
       "[1, 2, 3, 10, 20, 30]"
      ]
     },
     "execution_count": 11,
     "metadata": {},
     "output_type": "execute_result"
    }
   ],
   "source": [
    "x= [1,2,3]\n",
    "y= [10,20,30]\n",
    "x+y"
   ]
  },
  {
   "cell_type": "code",
   "execution_count": 12,
   "metadata": {},
   "outputs": [
    {
     "ename": "TypeError",
     "evalue": "unsupported operand type(s) for -: 'list' and 'list'",
     "output_type": "error",
     "traceback": [
      "\u001b[1;31m---------------------------------------------------------------------------\u001b[0m",
      "\u001b[1;31mTypeError\u001b[0m                                 Traceback (most recent call last)",
      "\u001b[1;32m<ipython-input-12-83495f0e569d>\u001b[0m in \u001b[0;36m<module>\u001b[1;34m\u001b[0m\n\u001b[1;32m----> 1\u001b[1;33m \u001b[0mx\u001b[0m\u001b[1;33m-\u001b[0m\u001b[0my\u001b[0m\u001b[1;33m,\u001b[0m \u001b[0mx\u001b[0m\u001b[1;33m*\u001b[0m\u001b[0my\u001b[0m\u001b[1;33m,\u001b[0m \u001b[0mx\u001b[0m\u001b[1;33m/\u001b[0m\u001b[0my\u001b[0m\u001b[1;33m\u001b[0m\u001b[1;33m\u001b[0m\u001b[0m\n\u001b[0m",
      "\u001b[1;31mTypeError\u001b[0m: unsupported operand type(s) for -: 'list' and 'list'"
     ]
    }
   ],
   "source": [
    "x-y, x*y, x/y"
   ]
  },
  {
   "cell_type": "code",
   "execution_count": null,
   "metadata": {},
   "outputs": [],
   "source": []
  },
  {
   "cell_type": "code",
   "execution_count": null,
   "metadata": {},
   "outputs": [],
   "source": []
  },
  {
   "cell_type": "code",
   "execution_count": null,
   "metadata": {},
   "outputs": [],
   "source": [
    "\n",
    "# Python List 的 運算 +, -, * , / 不是 我們在數學上向量、矩陣、、、等的定義方式。\n",
    "# 自己定義一個向量物件，使其符合數學上的定義！"
   ]
  },
  {
   "cell_type": "code",
   "execution_count": null,
   "metadata": {},
   "outputs": [],
   "source": [
    "class Vector:\n",
    "    def __init__(self, x):\n",
    "        self.x= x\n",
    "        \n",
    "    def add(self,y):    \n",
    "        z= [xi+yi for xi,yi in zip(self.x, y)]\n",
    "        return z\n",
    "\n",
    "v= Vector([1,2,3,4])\n",
    "v.add([10,20,30,40])"
   ]
  },
  {
   "cell_type": "code",
   "execution_count": null,
   "metadata": {},
   "outputs": [],
   "source": [
    "# 把它擴展成 +, - , *, / 都可以\n"
   ]
  },
  {
   "cell_type": "code",
   "execution_count": null,
   "metadata": {},
   "outputs": [],
   "source": [
    "class Vector:\n",
    "    def __init__(self, x):\n",
    "        self.x= x\n",
    "        \n",
    "    def add(self,y):    \n",
    "        z= [xi+yi for xi,yi in zip(self.x, y)]\n",
    "        return z\n",
    "    def sub(self,y):    \n",
    "        z= [xi-yi for xi,yi in zip(self.x, y)]\n",
    "        return z\n",
    "    def mul(self,y):    \n",
    "        z= [xi*yi for xi,yi in zip(self.x, y)]\n",
    "        return z\n",
    "    def div(self,y):    \n",
    "        z= [xi/yi for xi,yi in zip(self.x, y)]\n",
    "        return z\n",
    "    \n",
    "    def __add__(self,y):    \n",
    "        z= self.add(y)\n",
    "        return z\n",
    "    def __sub__(self,y):    \n",
    "        z= self.sub(y)\n",
    "        return z\n",
    "    def __mul__(self,y):    \n",
    "        z= self.mul(y)\n",
    "        return z\n",
    "    def __truediv__(self,y):    \n",
    "        z= self.div(y)\n",
    "        return z\n",
    "\n",
    "v= Vector([1,2,3,4])\n",
    "v, v.x"
   ]
  },
  {
   "cell_type": "code",
   "execution_count": null,
   "metadata": {},
   "outputs": [],
   "source": [
    "a= v + [10,20,30,40]\n",
    "s= v - [10,20,30,40]\n",
    "m= v * [10,20,30,40]\n",
    "d= v / [10,20,30,40]\n",
    "v.x, a, s, m, d"
   ]
  },
  {
   "cell_type": "code",
   "execution_count": null,
   "metadata": {},
   "outputs": [],
   "source": []
  },
  {
   "cell_type": "markdown",
   "metadata": {},
   "source": [
    "# Numpy 就是把我們以上作的事情再進一步延伸.... 成為一個偉大的模組 (module)"
   ]
  },
  {
   "cell_type": "code",
   "execution_count": null,
   "metadata": {},
   "outputs": [],
   "source": []
  },
  {
   "cell_type": "markdown",
   "metadata": {},
   "source": [
    "# Introduction to Linear Algebra with NumPy\n",
    "\n",
    "- https://towardsdatascience.com/introduction-to-linear-algebra-with-numpy-79adeb7bc060\n"
   ]
  },
  {
   "cell_type": "code",
   "execution_count": null,
   "metadata": {},
   "outputs": [],
   "source": [
    "import numpy as np\n"
   ]
  },
  {
   "cell_type": "code",
   "execution_count": null,
   "metadata": {},
   "outputs": [],
   "source": [
    "v= [1, 2, 3, 4]\n",
    "v"
   ]
  },
  {
   "cell_type": "code",
   "execution_count": null,
   "metadata": {},
   "outputs": [],
   "source": [
    "v= np.array(v)\n",
    "v"
   ]
  },
  {
   "cell_type": "code",
   "execution_count": null,
   "metadata": {},
   "outputs": [],
   "source": [
    "v.shape"
   ]
  },
  {
   "cell_type": "code",
   "execution_count": null,
   "metadata": {},
   "outputs": [],
   "source": [
    "A= [[1,2,3,4],\n",
    "    [5,6,7,8]]\n",
    "A"
   ]
  },
  {
   "cell_type": "code",
   "execution_count": null,
   "metadata": {},
   "outputs": [],
   "source": [
    "A= np.array(A)\n",
    "A"
   ]
  },
  {
   "cell_type": "code",
   "execution_count": null,
   "metadata": {},
   "outputs": [],
   "source": [
    "A.shape"
   ]
  },
  {
   "cell_type": "code",
   "execution_count": null,
   "metadata": {},
   "outputs": [],
   "source": [
    "T=[[1,2,3,4],\n",
    "   [5,6,7,8],\n",
    "   [9,10,11,12],\n",
    "   [13,14,15,16]]\n",
    "T"
   ]
  },
  {
   "cell_type": "code",
   "execution_count": null,
   "metadata": {},
   "outputs": [],
   "source": [
    "T= np.array(T)\n",
    "T"
   ]
  },
  {
   "cell_type": "code",
   "execution_count": null,
   "metadata": {},
   "outputs": [],
   "source": [
    "T.shape"
   ]
  },
  {
   "cell_type": "code",
   "execution_count": null,
   "metadata": {},
   "outputs": [],
   "source": [
    "T= T.reshape((2,2,4))\n",
    "T"
   ]
  },
  {
   "cell_type": "code",
   "execution_count": null,
   "metadata": {},
   "outputs": [],
   "source": [
    "T.shape"
   ]
  },
  {
   "cell_type": "code",
   "execution_count": null,
   "metadata": {},
   "outputs": [],
   "source": [
    "T[0]"
   ]
  },
  {
   "cell_type": "code",
   "execution_count": null,
   "metadata": {},
   "outputs": [],
   "source": [
    "T[1]"
   ]
  },
  {
   "cell_type": "code",
   "execution_count": null,
   "metadata": {},
   "outputs": [],
   "source": [
    "v.ndim"
   ]
  },
  {
   "cell_type": "code",
   "execution_count": null,
   "metadata": {},
   "outputs": [],
   "source": [
    "A.ndim"
   ]
  },
  {
   "cell_type": "code",
   "execution_count": null,
   "metadata": {},
   "outputs": [],
   "source": [
    "T.ndim"
   ]
  },
  {
   "cell_type": "markdown",
   "metadata": {},
   "source": [
    "![](https://miro.medium.com/max/555/0*Vh-pKXTJsdL-9FT0.png)"
   ]
  },
  {
   "cell_type": "code",
   "execution_count": null,
   "metadata": {},
   "outputs": [],
   "source": [
    "T4d= T.reshape(2,2,2,2)\n",
    "T4d"
   ]
  },
  {
   "cell_type": "code",
   "execution_count": null,
   "metadata": {},
   "outputs": [],
   "source": [
    "T4d.shape"
   ]
  },
  {
   "cell_type": "code",
   "execution_count": null,
   "metadata": {},
   "outputs": [],
   "source": [
    "v, A, T, T4d"
   ]
  },
  {
   "cell_type": "code",
   "execution_count": null,
   "metadata": {},
   "outputs": [],
   "source": [
    "v"
   ]
  },
  {
   "cell_type": "code",
   "execution_count": null,
   "metadata": {},
   "outputs": [],
   "source": [
    "v14= v.reshape(1,4)\n",
    "v14"
   ]
  },
  {
   "cell_type": "code",
   "execution_count": null,
   "metadata": {},
   "outputs": [],
   "source": [
    "v41= v.reshape(4,1)\n",
    "v41"
   ]
  },
  {
   "cell_type": "code",
   "execution_count": null,
   "metadata": {},
   "outputs": [],
   "source": [
    "v.shape, v14.shape, v41.shape"
   ]
  },
  {
   "cell_type": "markdown",
   "metadata": {},
   "source": [
    "# Vector Operations\n",
    "\n",
    "We have covered the basic structures. Now it is time to discuss basic operations that can be done on these structures.\n"
   ]
  },
  {
   "cell_type": "code",
   "execution_count": null,
   "metadata": {},
   "outputs": [],
   "source": []
  }
 ],
 "metadata": {
  "kernelspec": {
   "display_name": "Python 3",
   "language": "python",
   "name": "python3"
  },
  "language_info": {
   "codemirror_mode": {
    "name": "ipython",
    "version": 3
   },
   "file_extension": ".py",
   "mimetype": "text/x-python",
   "name": "python",
   "nbconvert_exporter": "python",
   "pygments_lexer": "ipython3",
   "version": "3.8.5"
  }
 },
 "nbformat": 4,
 "nbformat_minor": 5
}
