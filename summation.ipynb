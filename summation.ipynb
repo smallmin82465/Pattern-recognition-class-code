{
 "cells": [
  {
   "cell_type": "code",
   "execution_count": 4,
   "id": "4b683e97-8d11-414c-acce-d7a151a89303",
   "metadata": {},
   "outputs": [],
   "source": [
    "from sympy import summation,symbols"
   ]
  },
  {
   "cell_type": "code",
   "execution_count": 5,
   "id": "aa7b1f14-1489-4dd1-8df3-f9a5e0a25f74",
   "metadata": {},
   "outputs": [],
   "source": [
    "i, n, m = symbols('i n m', integer=True)"
   ]
  },
  {
   "cell_type": "code",
   "execution_count": 7,
   "id": "1b9dd8df-d449-42f6-8957-26c29a6bd6d8",
   "metadata": {},
   "outputs": [
    {
     "data": {
      "text/latex": [
       "$\\displaystyle \\frac{n^{4}}{4} + \\frac{n^{3}}{2} + \\frac{n^{2}}{4}$"
      ],
      "text/plain": [
       "n**4/4 + n**3/2 + n**2/4"
      ]
     },
     "execution_count": 7,
     "metadata": {},
     "output_type": "execute_result"
    }
   ],
   "source": [
    "summation(i**3, (i, 1, n))"
   ]
  },
  {
   "cell_type": "code",
   "execution_count": 8,
   "id": "cbdb6559-bced-430a-b668-dd1b9dbbb9ce",
   "metadata": {},
   "outputs": [
    {
     "data": {
      "text/latex": [
       "$\\displaystyle \\frac{n^{5}}{5} + \\frac{n^{4}}{2} + \\frac{n^{3}}{3} - \\frac{n}{30}$"
      ],
      "text/plain": [
       "n**5/5 + n**4/2 + n**3/3 - n/30"
      ]
     },
     "execution_count": 8,
     "metadata": {},
     "output_type": "execute_result"
    }
   ],
   "source": [
    "summation(i**4, (i, 1, n))"
   ]
  },
  {
   "cell_type": "code",
   "execution_count": 9,
   "id": "b00325fd-a6ca-4234-a24b-824d0eae8ce4",
   "metadata": {},
   "outputs": [
    {
     "data": {
      "text/latex": [
       "$\\displaystyle \\frac{n^{6}}{6} + \\frac{n^{5}}{2} + \\frac{5 n^{4}}{12} - \\frac{n^{2}}{12}$"
      ],
      "text/plain": [
       "n**6/6 + n**5/2 + 5*n**4/12 - n**2/12"
      ]
     },
     "execution_count": 9,
     "metadata": {},
     "output_type": "execute_result"
    }
   ],
   "source": [
    "summation(i**5, (i, 1, n))"
   ]
  },
  {
   "cell_type": "code",
   "execution_count": 10,
   "id": "dd3f9dba-4c38-406f-a5ec-edc43ae2b227",
   "metadata": {},
   "outputs": [
    {
     "data": {
      "text/latex": [
       "$\\displaystyle \\frac{n^{7}}{7} + \\frac{n^{6}}{2} + \\frac{n^{5}}{2} - \\frac{n^{3}}{6} + \\frac{n}{42}$"
      ],
      "text/plain": [
       "n**7/7 + n**6/2 + n**5/2 - n**3/6 + n/42"
      ]
     },
     "execution_count": 10,
     "metadata": {},
     "output_type": "execute_result"
    }
   ],
   "source": [
    "summation(i**6, (i, 1, n))"
   ]
  },
  {
   "cell_type": "code",
   "execution_count": null,
   "id": "1984a1a3-5b8e-4f0a-b258-175b0c84cb5f",
   "metadata": {},
   "outputs": [],
   "source": []
  }
 ],
 "metadata": {
  "kernelspec": {
   "display_name": "Python 3",
   "language": "python",
   "name": "python3"
  },
  "language_info": {
   "codemirror_mode": {
    "name": "ipython",
    "version": 3
   },
   "file_extension": ".py",
   "mimetype": "text/x-python",
   "name": "python",
   "nbconvert_exporter": "python",
   "pygments_lexer": "ipython3",
   "version": "3.8.8"
  }
 },
 "nbformat": 4,
 "nbformat_minor": 5
}
